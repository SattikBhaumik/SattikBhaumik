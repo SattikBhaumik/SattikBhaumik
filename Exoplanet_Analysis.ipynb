{
  "nbformat": 4,
  "nbformat_minor": 0,
  "metadata": {
    "colab": {
      "name": "Exoplanet Analysis.ipynb",
      "provenance": [],
      "collapsed_sections": [],
      "authorship_tag": "ABX9TyMTOmHdfldDx2HiekiMB8hS",
      "include_colab_link": true
    },
    "kernelspec": {
      "name": "python3",
      "display_name": "Python 3"
    },
    "language_info": {
      "name": "python"
    }
  },
  "cells": [
    {
      "cell_type": "markdown",
      "metadata": {
        "id": "view-in-github",
        "colab_type": "text"
      },
      "source": [
        "<a href=\"https://colab.research.google.com/github/SattikBhaumik/SattikBhaumik/blob/main/Exoplanet_Analysis.ipynb\" target=\"_parent\"><img src=\"https://colab.research.google.com/assets/colab-badge.svg\" alt=\"Open In Colab\"/></a>"
      ]
    },
    {
      "cell_type": "code",
      "metadata": {
        "id": "fY0cu-X-H2Ix"
      },
      "source": [
        "#constants\n",
        "G=6.6743e-11\n",
        "au=1.496e+11\n",
        "M_earth=5.97216787e+24\n",
        "M_jup=1.8981246e+27\n",
        "M_sun=1.98840987e+30\n",
        "R_earth=6378100\n",
        "R_jup=71492000\n",
        "R_sun=695700000\n",
        "import math\n",
        "pi= math.pi\n",
        "al= 0.07\n",
        "F_tot= 1\n",
        "\n",
        "#Earth Data\n",
        "E_rho= 5.51       #density in g cm^-3\n",
        "E_ve= 11.19       #escape velocity in km s^-1\n",
        "E_t= 288.00       #temp in K\n",
        "\n",
        "#weight exponents\n",
        "w_R= 0.57         #radius parameter\n",
        "w_Rho= 1.07       #density parameter\n",
        "w_VE= 0.70        #escape velocity parameter\n",
        "w_T= 5.58         #surface temperature parameter\n"
      ],
      "execution_count": null,
      "outputs": []
    },
    {
      "cell_type": "code",
      "metadata": {
        "id": "lpjP-tYuM1hG"
      },
      "source": [
        "#taking user input of Star data from database\n",
        "def STAR():                                        \n",
        "  global M_star\n",
        "  M_star=input('Enter Star Mass in terms of Sun:')\n",
        "  M_star = float(M_star)*M_sun\n",
        "  global R_star\n",
        "  R_star=input('Enter Star Radius in Sun:')\n",
        "  R_star = float(R_star)*R_sun\n",
        "  global T_star\n",
        "  T_star=input('Enter Star Temperature in K:')\n",
        "  T_star = float(T_star)\n",
        "\n",
        "STAR()"
      ],
      "execution_count": null,
      "outputs": []
    },
    {
      "cell_type": "code",
      "metadata": {
        "id": "uEcQXWubiwnH"
      },
      "source": [
        "#taking user input of Planet data after TOPCAT analysis\n",
        "def PLANET():\n",
        "  global P\n",
        "  P = input('Enter Planet Orbital Period in days:')\n",
        "  P = float(P)*86400\n",
        "  global F_trans\n",
        "  F_trans = input('Enter Transit Flux:')\n",
        "  F_trans = float(F_trans)\n",
        "  global v_max\n",
        "  v_max= input('Enter Planet Velocity in m/s:')\n",
        "  v_max= float(v_max)\n",
        "  v_max= math.fabs(v_max)\n",
        "\n",
        "PLANET()"
      ],
      "execution_count": null,
      "outputs": []
    },
    {
      "cell_type": "code",
      "metadata": {
        "id": "TtmDT_kUgUs3"
      },
      "source": [
        "#calculating planet components\n",
        "def Exoplanet():\n",
        "  global a,a1\n",
        "  a=math.pow((G*M_star*P*P/(4*pi*pi)), (1/3))\n",
        "  a1=a/au\n",
        "\n",
        "  global R,R1,R2\n",
        "  R=float(R_star*math.sqrt(1-(F_trans/F_tot)))\n",
        "  R1=float(R/R_earth)\n",
        "  R2=float(R/R_jup)\n",
        "\n",
        "  global T,TC\n",
        "  T=float(T_star*math.pow(((1-al)*R_star**2/a**2), (1/4)))\n",
        "  T=T/math.sqrt(2)\n",
        "  TC=float(T-273.15)\n",
        "\n",
        "  global M,M1,M2\n",
        "  M=float(v_max*math.sqrt(a*M_star/G))\n",
        "  M1=float(M/M_jup)                     #in terms of jup\n",
        "  M2=float(M/M_earth)                   #mass in terms of earth\n",
        "\n",
        "  global Vol, Dens, Dens1               #check density conversion\n",
        "  Vol=float((4/3)*pi*R*R*R)\n",
        "  Dens1=float(M/Vol)            #kg m3    \n",
        "  Dens=Dens1/1000               #g cm3\n",
        "\n",
        "  global Vems, VeKms\n",
        "  Vems= float(math.sqrt(2*G*M/R))\n",
        "  VeKms= Vems/1000\n",
        "  \n",
        "Exoplanet()"
      ],
      "execution_count": null,
      "outputs": []
    },
    {
      "cell_type": "code",
      "metadata": {
        "id": "ymtZv0LSputr"
      },
      "source": [
        "#calculating ESI parameters\n",
        "ESI_R = math.pow((1-math.fabs((R-R_earth)/(R+R_earth))), w_R)              #radius parameter\n",
        "ESI_Rho = math.pow((1-math.fabs((Dens-E_rho)/(Dens+E_rho))), w_Rho)        #density parameter\n",
        "ESI_VE = math.pow((1-math.fabs((VeKms-E_ve)/(VeKms+E_ve))), w_VE)          #escape velocity parameter\n",
        "ESI_T = math.pow((1-math.fabs((T-E_t)/(T+E_t))), w_T)                      #temperature parameter\n",
        "\n",
        "#calculating final ESI's\n",
        "ESI_Int = math.sqrt(ESI_R*ESI_Rho)         #interior ESI\n",
        "ESI_Sur = math.sqrt(ESI_VE*ESI_T)          #surface ESI\n",
        "ESI_Global = math.sqrt(ESI_Int*ESI_Sur)    #final ESI determining habitability"
      ],
      "execution_count": null,
      "outputs": []
    },
    {
      "cell_type": "code",
      "metadata": {
        "id": "pMuGDjW8mrLn"
      },
      "source": [
        "#printing \n",
        "#planet data\n",
        "print('Planet Orbital Radius in m:',a)\n",
        "print('Planet Orbital Radius in AU:', a1)\n",
        "\n",
        "print('Planet Radius in m:', R)\n",
        "print('Planet Radius in terms of Earth:', R1)\n",
        "print('Planet Radius in terms of Jupiter:', R2)\n",
        "\n",
        "print('Planet Temperature in kelvin:', T)\n",
        "print('Planet Temperature in celsius:', TC)\n",
        "\n",
        "print('Planet Mass in kg:', M)\n",
        "print('Planet Mass in terms of Jupiter:', M1)\n",
        "print('Planet Mass in terms of Earth:', M2)\n",
        "\n",
        "print('PLanet Density in kg m^-3:', Dens1)\n",
        "print('PLanet Density in g cm^-3:', Dens) #check \n",
        "\n",
        "print('Escape Velocity of Planet in m/s:', Vems)\n",
        "print('Escape Velocity of Planet in km/s:', VeKms)\n",
        "\n",
        "#ESI data\n",
        "print('Interior ESI:', ESI_Int)\n",
        "print('Surface ESI:', ESI_Sur)\n",
        "print('Global ESI:', ESI_Global)"
      ],
      "execution_count": null,
      "outputs": []
    }
  ]
}